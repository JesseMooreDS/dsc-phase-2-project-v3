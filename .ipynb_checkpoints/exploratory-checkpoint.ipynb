{
 "cells": [
  {
   "cell_type": "markdown",
   "metadata": {},
   "source": [
    "# <ins>Phase Two Final Project Submission</ins>\n",
    "\n",
    "* Student name: Jesse Moore\n",
    "* Student pace: Flex\n",
    "* Scheduled project review date/time: Friday 10:00 AM\n",
    "* Instructor name: Mark Barbour\n",
    "* Blog post URL: [Linear Regression and the LINE Test](https://medium.com/@essejeroom/linear-regression-and-the-line-test-understanding-assumptions-for-valid-models-b40b1a1c039c)\n"
   ]
  },
  {
   "cell_type": "markdown",
   "metadata": {},
   "source": [
    "<img src=\"ticketwindow.jpg\" alt=\"Title Window\" width=\"800\"/>"
   ]
  },
  {
   "cell_type": "markdown",
   "metadata": {},
   "source": [
    "# <ins>Overview</ins>\n",
    "# Business Problem\n",
    "### Our client has recognized the success of leading entertainment companies that are producing original video content and is eager to enter this expanding market. They plan to launch a new movie studio but have minimal experience in film production. Our objective is to analyze current box office trends to identify the most successful types of movies. \n",
    "\n",
    "### Based on our analysis, we will provide actionable recommendations to help the studio's leadership determine which genres are the most profitable for each category of production budget, as well determine what is the most profitable genre for each month of the year, and what directors are the most profitable for each budget category."
   ]
  },
  {
   "cell_type": "markdown",
   "metadata": {},
   "source": [
    "# Data Understanding"
   ]
  },
  {
   "cell_type": "markdown",
   "metadata": {},
   "source": [
    "### We will analyze datasets from: \n",
    "\n",
    "* [Box Office Mojo](https://www.boxofficemojo.com/)\n",
    "* [IMDB](https://www.imdb.com/)\n",
    "* [Rotten Tomatoes](https://www.rottentomatoes.com/)\n",
    "* [TheMovieDB](https://www.themoviedb.org/)\n",
    "* [The Numbers](https://www.the-numbers.com/)"
   ]
  },
  {
   "cell_type": "markdown",
   "metadata": {},
   "source": [
    "### In our analysis, we will create a new variable, 'roi' that will reflect the return on investment for each movie. We will also create a variable 'production_budget_category' that will allow us to more easily analyze the relationship between production budget and other features of our dataset. "
   ]
  },
  {
   "cell_type": "code",
   "execution_count": 1,
   "metadata": {},
   "outputs": [],
   "source": [
    "#Importing the necessary libraries\n",
    "import pandas as pd\n",
    "import numpy as np\n",
    "import matplotlib.pyplot as plt\n",
    "import seaborn as sns\n",
    "import statsmodels.api as sm\n",
    "import sqlite3\n",
    "from zipfile import ZipFile\n",
    "from matplotlib.ticker import MaxNLocator, MultipleLocator\n",
    "import matplotlib.ticker as mtick\n",
    "\n",
    "# Enabling inline plotting for Jupyter Notebooks\n",
    "%matplotlib inline"
   ]
  },
  {
   "cell_type": "code",
   "execution_count": 2,
   "metadata": {},
   "outputs": [],
   "source": [
    "#Some quality of life options for better formatting and visuals.\n",
    "\n",
    "#Formatting our floats.\n",
    "pd.set_option('display.float_format', lambda x: '%.2f' % x)\n",
    "\n",
    "# Setting style to 'dark' for better visuals\n",
    "sns.set_style('dark')"
   ]
  },
  {
   "cell_type": "code",
   "execution_count": 3,
   "metadata": {},
   "outputs": [],
   "source": [
    "#Loading our 'im.db.zip' database'\n",
    "zip_file_path = 'zippedData/im.db.zip'\n",
    "extract_folder = 'zippedData/extracted/'\n",
    "\n",
    "#extracting the database with ZipFile\n",
    "with ZipFile(zip_file_path, 'r') as zip_ref:\n",
    "    zip_ref.extractall(extract_folder)"
   ]
  },
  {
   "cell_type": "code",
   "execution_count": 4,
   "metadata": {},
   "outputs": [],
   "source": [
    "#Loading in our movie gross file\n",
    "df = pd.read_csv('zippedData/bom.movie_gross.csv.gz')"
   ]
  },
  {
   "cell_type": "code",
   "execution_count": 5,
   "metadata": {},
   "outputs": [],
   "source": [
    "#Dropping any NA values \n",
    "df.dropna(inplace=True)"
   ]
  },
  {
   "cell_type": "code",
   "execution_count": 6,
   "metadata": {},
   "outputs": [],
   "source": [
    "#Let's import our 'tn.movie_budgets.csv.gz' dataset so that we can analyze the budgets to create a new 'roi' feature\n",
    "new_df = pd.read_csv('zippedData/tn.movie_budgets.csv.gz', on_bad_lines='skip', )"
   ]
  },
  {
   "cell_type": "code",
   "execution_count": 7,
   "metadata": {},
   "outputs": [],
   "source": [
    "#Now we will create a merged_df with both of our datasets \n",
    "\n",
    "# Define the path to the SQLite database file\n",
    "db_file_path = 'zippedData/extracted/im.db'\n",
    "\n",
    "# Establish a connection to the SQLite database\n",
    "conn = sqlite3.connect(db_file_path)\n",
    "\n",
    "# SQL query to select necessary columns from movie_basics and movie_akas tables\n",
    "query = '''\n",
    "    SELECT \n",
    "    mb.movie_id,\n",
    "    mb.primary_title,\n",
    "    mb.start_year,\n",
    "    mb.genres,\n",
    "    ma.title,\n",
    "    p.primary_name as director,\n",
    "    mr.averagerating as rating\n",
    "    FROM movie_basics as mb\n",
    "    LEFT JOIN\n",
    "    movie_akas as ma on mb.movie_id = ma.movie_id\n",
    "    LEFT JOIN\n",
    "    movie_ratings as mr on mb.movie_id = mr.movie_id\n",
    "    LEFT JOIN \n",
    "    directors as d on mb.movie_id = d.movie_id\n",
    "    LEFT JOIN \n",
    "    persons as p on d.person_id = p.person_id\n",
    "'''\n",
    "\n",
    "# Create a pandas DataFrame by executing the SQL query on the connected database\n",
    "merged_df = pd.read_sql(query, conn)\n",
    "\n",
    "#closing our connection to the SQLite database.\n",
    "conn.close()"
   ]
  },
  {
   "cell_type": "markdown",
   "metadata": {},
   "source": [
    "# Data Preparation\n",
    "### Now, we must create a merged and clean dataset. This will be a multi-step process involving several datasets and joins. We will create a new feature, 'roi' that will reflect the mean total profit for each movie, and new variables 'production_budget_category' that will allow us to more easily analyze the effect production budget plays in our dataset."
   ]
  },
  {
   "cell_type": "code",
   "execution_count": 8,
   "metadata": {
    "scrolled": true
   },
   "outputs": [],
   "source": [
    "#Dropping any rows where our title is duplicated. \n",
    "merged_df = merged_df.drop_duplicates(subset='primary_title', keep='first')"
   ]
  },
  {
   "cell_type": "code",
   "execution_count": 44,
   "metadata": {},
   "outputs": [
    {
     "data": {
      "text/html": [
       "<div>\n",
       "<style scoped>\n",
       "    .dataframe tbody tr th:only-of-type {\n",
       "        vertical-align: middle;\n",
       "    }\n",
       "\n",
       "    .dataframe tbody tr th {\n",
       "        vertical-align: top;\n",
       "    }\n",
       "\n",
       "    .dataframe thead th {\n",
       "        text-align: right;\n",
       "    }\n",
       "</style>\n",
       "<table border=\"1\" class=\"dataframe\">\n",
       "  <thead>\n",
       "    <tr style=\"text-align: right;\">\n",
       "      <th></th>\n",
       "      <th>movie_id</th>\n",
       "      <th>primary_title</th>\n",
       "      <th>start_year</th>\n",
       "      <th>genres</th>\n",
       "      <th>title</th>\n",
       "      <th>director</th>\n",
       "      <th>rating</th>\n",
       "    </tr>\n",
       "  </thead>\n",
       "  <tbody>\n",
       "    <tr>\n",
       "      <th>0</th>\n",
       "      <td>tt0063540</td>\n",
       "      <td>Sunghursh</td>\n",
       "      <td>2013</td>\n",
       "      <td>Action,Crime,Drama</td>\n",
       "      <td>Sangharsh</td>\n",
       "      <td>Harnam Singh Rawail</td>\n",
       "      <td>7.00</td>\n",
       "    </tr>\n",
       "    <tr>\n",
       "      <th>20</th>\n",
       "      <td>tt0066787</td>\n",
       "      <td>One Day Before the Rainy Season</td>\n",
       "      <td>2019</td>\n",
       "      <td>Biography,Drama</td>\n",
       "      <td>Ashad Ka Ek Din</td>\n",
       "      <td>Mani Kaul</td>\n",
       "      <td>7.20</td>\n",
       "    </tr>\n",
       "    <tr>\n",
       "      <th>24</th>\n",
       "      <td>tt0069049</td>\n",
       "      <td>The Other Side of the Wind</td>\n",
       "      <td>2018</td>\n",
       "      <td>Drama</td>\n",
       "      <td>Al otro lado del viento</td>\n",
       "      <td>Orson Welles</td>\n",
       "      <td>6.90</td>\n",
       "    </tr>\n",
       "    <tr>\n",
       "      <th>50</th>\n",
       "      <td>tt0069204</td>\n",
       "      <td>Sabse Bada Sukh</td>\n",
       "      <td>2018</td>\n",
       "      <td>Comedy,Drama</td>\n",
       "      <td>Sabse Bada Sukh</td>\n",
       "      <td>Hrishikesh Mukherjee</td>\n",
       "      <td>6.10</td>\n",
       "    </tr>\n",
       "    <tr>\n",
       "      <th>53</th>\n",
       "      <td>tt0100275</td>\n",
       "      <td>The Wandering Soap Opera</td>\n",
       "      <td>2017</td>\n",
       "      <td>Comedy,Drama,Fantasy</td>\n",
       "      <td>La Telenovela Errante</td>\n",
       "      <td>Raoul Ruiz</td>\n",
       "      <td>6.50</td>\n",
       "    </tr>\n",
       "  </tbody>\n",
       "</table>\n",
       "</div>"
      ],
      "text/plain": [
       "     movie_id                    primary_title  start_year  \\\n",
       "0   tt0063540                        Sunghursh        2013   \n",
       "20  tt0066787  One Day Before the Rainy Season        2019   \n",
       "24  tt0069049       The Other Side of the Wind        2018   \n",
       "50  tt0069204                  Sabse Bada Sukh        2018   \n",
       "53  tt0100275         The Wandering Soap Opera        2017   \n",
       "\n",
       "                  genres                    title              director  \\\n",
       "0     Action,Crime,Drama                Sangharsh   Harnam Singh Rawail   \n",
       "20       Biography,Drama          Ashad Ka Ek Din             Mani Kaul   \n",
       "24                 Drama  Al otro lado del viento          Orson Welles   \n",
       "50          Comedy,Drama          Sabse Bada Sukh  Hrishikesh Mukherjee   \n",
       "53  Comedy,Drama,Fantasy    La Telenovela Errante            Raoul Ruiz   \n",
       "\n",
       "    rating  \n",
       "0     7.00  \n",
       "20    7.20  \n",
       "24    6.90  \n",
       "50    6.10  \n",
       "53    6.50  "
      ]
     },
     "execution_count": 44,
     "metadata": {},
     "output_type": "execute_result"
    }
   ],
   "source": [
    "merged_df.head()"
   ]
  },
  {
   "cell_type": "code",
   "execution_count": 9,
   "metadata": {},
   "outputs": [],
   "source": [
    "#Joining our two datasets to include information such as foreign and domestic gross.\n",
    "joined_df = pd.merge(df, merged_df, how='inner', left_on='title', right_on='primary_title')"
   ]
  },
  {
   "cell_type": "code",
   "execution_count": 45,
   "metadata": {},
   "outputs": [
    {
     "data": {
      "text/html": [
       "<div>\n",
       "<style scoped>\n",
       "    .dataframe tbody tr th:only-of-type {\n",
       "        vertical-align: middle;\n",
       "    }\n",
       "\n",
       "    .dataframe tbody tr th {\n",
       "        vertical-align: top;\n",
       "    }\n",
       "\n",
       "    .dataframe thead th {\n",
       "        text-align: right;\n",
       "    }\n",
       "</style>\n",
       "<table border=\"1\" class=\"dataframe\">\n",
       "  <thead>\n",
       "    <tr style=\"text-align: right;\">\n",
       "      <th></th>\n",
       "      <th>title_x</th>\n",
       "      <th>studio</th>\n",
       "      <th>domestic_gross</th>\n",
       "      <th>foreign_gross</th>\n",
       "      <th>year</th>\n",
       "      <th>movie_id</th>\n",
       "      <th>primary_title</th>\n",
       "      <th>start_year</th>\n",
       "      <th>genres</th>\n",
       "      <th>title_y</th>\n",
       "      <th>director</th>\n",
       "      <th>rating</th>\n",
       "    </tr>\n",
       "  </thead>\n",
       "  <tbody>\n",
       "    <tr>\n",
       "      <th>0</th>\n",
       "      <td>Toy Story 3</td>\n",
       "      <td>BV</td>\n",
       "      <td>415000000.00</td>\n",
       "      <td>652000000</td>\n",
       "      <td>2010</td>\n",
       "      <td>tt0435761</td>\n",
       "      <td>Toy Story 3</td>\n",
       "      <td>2010</td>\n",
       "      <td>Adventure,Animation,Comedy</td>\n",
       "      <td>3</td>\n",
       "      <td>Lee Unkrich</td>\n",
       "      <td>8.30</td>\n",
       "    </tr>\n",
       "    <tr>\n",
       "      <th>1</th>\n",
       "      <td>Inception</td>\n",
       "      <td>WB</td>\n",
       "      <td>292600000.00</td>\n",
       "      <td>535700000</td>\n",
       "      <td>2010</td>\n",
       "      <td>tt1375666</td>\n",
       "      <td>Inception</td>\n",
       "      <td>2010</td>\n",
       "      <td>Action,Adventure,Sci-Fi</td>\n",
       "      <td>A Origem</td>\n",
       "      <td>Christopher Nolan</td>\n",
       "      <td>8.80</td>\n",
       "    </tr>\n",
       "    <tr>\n",
       "      <th>2</th>\n",
       "      <td>Shrek Forever After</td>\n",
       "      <td>P/DW</td>\n",
       "      <td>238700000.00</td>\n",
       "      <td>513900000</td>\n",
       "      <td>2010</td>\n",
       "      <td>tt0892791</td>\n",
       "      <td>Shrek Forever After</td>\n",
       "      <td>2010</td>\n",
       "      <td>Adventure,Animation,Comedy</td>\n",
       "      <td>Forever After: The Final Chapter</td>\n",
       "      <td>Mike Mitchell</td>\n",
       "      <td>6.30</td>\n",
       "    </tr>\n",
       "    <tr>\n",
       "      <th>3</th>\n",
       "      <td>The Twilight Saga: Eclipse</td>\n",
       "      <td>Sum.</td>\n",
       "      <td>300500000.00</td>\n",
       "      <td>398000000</td>\n",
       "      <td>2010</td>\n",
       "      <td>tt1325004</td>\n",
       "      <td>The Twilight Saga: Eclipse</td>\n",
       "      <td>2010</td>\n",
       "      <td>Adventure,Drama,Fantasy</td>\n",
       "      <td>A Saga Crepúsculo: Eclipse</td>\n",
       "      <td>David Slade</td>\n",
       "      <td>5.00</td>\n",
       "    </tr>\n",
       "    <tr>\n",
       "      <th>4</th>\n",
       "      <td>Iron Man 2</td>\n",
       "      <td>Par.</td>\n",
       "      <td>312400000.00</td>\n",
       "      <td>311500000</td>\n",
       "      <td>2010</td>\n",
       "      <td>tt1228705</td>\n",
       "      <td>Iron Man 2</td>\n",
       "      <td>2010</td>\n",
       "      <td>Action,Adventure,Sci-Fi</td>\n",
       "      <td>Aian Man 2</td>\n",
       "      <td>Jon Favreau</td>\n",
       "      <td>7.00</td>\n",
       "    </tr>\n",
       "  </tbody>\n",
       "</table>\n",
       "</div>"
      ],
      "text/plain": [
       "                      title_x studio  domestic_gross foreign_gross  year  \\\n",
       "0                 Toy Story 3     BV    415000000.00     652000000  2010   \n",
       "1                   Inception     WB    292600000.00     535700000  2010   \n",
       "2         Shrek Forever After   P/DW    238700000.00     513900000  2010   \n",
       "3  The Twilight Saga: Eclipse   Sum.    300500000.00     398000000  2010   \n",
       "4                  Iron Man 2   Par.    312400000.00     311500000  2010   \n",
       "\n",
       "    movie_id               primary_title  start_year  \\\n",
       "0  tt0435761                 Toy Story 3        2010   \n",
       "1  tt1375666                   Inception        2010   \n",
       "2  tt0892791         Shrek Forever After        2010   \n",
       "3  tt1325004  The Twilight Saga: Eclipse        2010   \n",
       "4  tt1228705                  Iron Man 2        2010   \n",
       "\n",
       "                       genres                           title_y  \\\n",
       "0  Adventure,Animation,Comedy                                 3   \n",
       "1     Action,Adventure,Sci-Fi                          A Origem   \n",
       "2  Adventure,Animation,Comedy  Forever After: The Final Chapter   \n",
       "3     Adventure,Drama,Fantasy        A Saga Crepúsculo: Eclipse   \n",
       "4     Action,Adventure,Sci-Fi                        Aian Man 2   \n",
       "\n",
       "            director  rating  \n",
       "0        Lee Unkrich    8.30  \n",
       "1  Christopher Nolan    8.80  \n",
       "2      Mike Mitchell    6.30  \n",
       "3        David Slade    5.00  \n",
       "4        Jon Favreau    7.00  "
      ]
     },
     "execution_count": 45,
     "metadata": {},
     "output_type": "execute_result"
    }
   ],
   "source": [
    "joined_df.head()"
   ]
  },
  {
   "cell_type": "code",
   "execution_count": 10,
   "metadata": {},
   "outputs": [],
   "source": [
    "#Joining with our new_df dataframe to now include the production budget.\n",
    "joined_df2 = pd.merge(joined_df, new_df, how='inner', left_on='title_x', right_on='movie')"
   ]
  },
  {
   "cell_type": "code",
   "execution_count": 46,
   "metadata": {},
   "outputs": [
    {
     "data": {
      "text/html": [
       "<div>\n",
       "<style scoped>\n",
       "    .dataframe tbody tr th:only-of-type {\n",
       "        vertical-align: middle;\n",
       "    }\n",
       "\n",
       "    .dataframe tbody tr th {\n",
       "        vertical-align: top;\n",
       "    }\n",
       "\n",
       "    .dataframe thead th {\n",
       "        text-align: right;\n",
       "    }\n",
       "</style>\n",
       "<table border=\"1\" class=\"dataframe\">\n",
       "  <thead>\n",
       "    <tr style=\"text-align: right;\">\n",
       "      <th></th>\n",
       "      <th>title</th>\n",
       "      <th>year</th>\n",
       "      <th>movie_id</th>\n",
       "      <th>genres</th>\n",
       "      <th>director</th>\n",
       "      <th>rating</th>\n",
       "      <th>release_date</th>\n",
       "      <th>production_budget</th>\n",
       "      <th>worldwide_gross</th>\n",
       "      <th>roi</th>\n",
       "      <th>release_month</th>\n",
       "    </tr>\n",
       "  </thead>\n",
       "  <tbody>\n",
       "    <tr>\n",
       "      <th>0</th>\n",
       "      <td>Toy Story 3</td>\n",
       "      <td>2010</td>\n",
       "      <td>tt0435761</td>\n",
       "      <td>[Adventure, Animation, Comedy]</td>\n",
       "      <td>Lee Unkrich</td>\n",
       "      <td>8.30</td>\n",
       "      <td>2010-06-18</td>\n",
       "      <td>200000000.00</td>\n",
       "      <td>1068879522.00</td>\n",
       "      <td>868879522.00</td>\n",
       "      <td>June</td>\n",
       "    </tr>\n",
       "    <tr>\n",
       "      <th>1</th>\n",
       "      <td>Inception</td>\n",
       "      <td>2010</td>\n",
       "      <td>tt1375666</td>\n",
       "      <td>[Action, Adventure, Sci-Fi]</td>\n",
       "      <td>Christopher Nolan</td>\n",
       "      <td>8.80</td>\n",
       "      <td>2010-07-16</td>\n",
       "      <td>160000000.00</td>\n",
       "      <td>835524642.00</td>\n",
       "      <td>675524642.00</td>\n",
       "      <td>July</td>\n",
       "    </tr>\n",
       "    <tr>\n",
       "      <th>2</th>\n",
       "      <td>Shrek Forever After</td>\n",
       "      <td>2010</td>\n",
       "      <td>tt0892791</td>\n",
       "      <td>[Adventure, Animation, Comedy]</td>\n",
       "      <td>Mike Mitchell</td>\n",
       "      <td>6.30</td>\n",
       "      <td>2010-05-21</td>\n",
       "      <td>165000000.00</td>\n",
       "      <td>756244673.00</td>\n",
       "      <td>591244673.00</td>\n",
       "      <td>May</td>\n",
       "    </tr>\n",
       "    <tr>\n",
       "      <th>3</th>\n",
       "      <td>The Twilight Saga: Eclipse</td>\n",
       "      <td>2010</td>\n",
       "      <td>tt1325004</td>\n",
       "      <td>[Adventure, Drama, Fantasy]</td>\n",
       "      <td>David Slade</td>\n",
       "      <td>5.00</td>\n",
       "      <td>2010-06-30</td>\n",
       "      <td>68000000.00</td>\n",
       "      <td>706102828.00</td>\n",
       "      <td>638102828.00</td>\n",
       "      <td>June</td>\n",
       "    </tr>\n",
       "    <tr>\n",
       "      <th>4</th>\n",
       "      <td>Iron Man 2</td>\n",
       "      <td>2010</td>\n",
       "      <td>tt1228705</td>\n",
       "      <td>[Action, Adventure, Sci-Fi]</td>\n",
       "      <td>Jon Favreau</td>\n",
       "      <td>7.00</td>\n",
       "      <td>2010-05-07</td>\n",
       "      <td>170000000.00</td>\n",
       "      <td>621156389.00</td>\n",
       "      <td>451156389.00</td>\n",
       "      <td>May</td>\n",
       "    </tr>\n",
       "  </tbody>\n",
       "</table>\n",
       "</div>"
      ],
      "text/plain": [
       "                        title  year   movie_id  \\\n",
       "0                 Toy Story 3  2010  tt0435761   \n",
       "1                   Inception  2010  tt1375666   \n",
       "2         Shrek Forever After  2010  tt0892791   \n",
       "3  The Twilight Saga: Eclipse  2010  tt1325004   \n",
       "4                  Iron Man 2  2010  tt1228705   \n",
       "\n",
       "                           genres           director  rating release_date  \\\n",
       "0  [Adventure, Animation, Comedy]        Lee Unkrich    8.30   2010-06-18   \n",
       "1     [Action, Adventure, Sci-Fi]  Christopher Nolan    8.80   2010-07-16   \n",
       "2  [Adventure, Animation, Comedy]      Mike Mitchell    6.30   2010-05-21   \n",
       "3     [Adventure, Drama, Fantasy]        David Slade    5.00   2010-06-30   \n",
       "4     [Action, Adventure, Sci-Fi]        Jon Favreau    7.00   2010-05-07   \n",
       "\n",
       "   production_budget  worldwide_gross          roi release_month  \n",
       "0       200000000.00    1068879522.00 868879522.00          June  \n",
       "1       160000000.00     835524642.00 675524642.00          July  \n",
       "2       165000000.00     756244673.00 591244673.00           May  \n",
       "3        68000000.00     706102828.00 638102828.00          June  \n",
       "4       170000000.00     621156389.00 451156389.00           May  "
      ]
     },
     "execution_count": 46,
     "metadata": {},
     "output_type": "execute_result"
    }
   ],
   "source": [
    "joined_df2.head()"
   ]
  },
  {
   "cell_type": "code",
   "execution_count": 11,
   "metadata": {},
   "outputs": [],
   "source": [
    "#Converting the release date to datetime format. \n",
    "joined_df2['release_date'] = pd.to_datetime(joined_df2['release_date'])"
   ]
  },
  {
   "cell_type": "code",
   "execution_count": 12,
   "metadata": {},
   "outputs": [],
   "source": [
    "#Dropping columns with values that we will not be analyzing as part of this analysis. \n",
    "#creating a list of columns that we won't need. \n",
    "columns_to_drop = ['studio', 'domestic_gross_x', 'foreign_gross', 'primary_title', 'start_year', 'title_y',\n",
    "                   'id', 'movie', 'domestic_gross_y']\n",
    "\n",
    "#dropping the columns. \n",
    "joined_df2.drop(columns_to_drop, axis=1, inplace=True)"
   ]
  },
  {
   "cell_type": "code",
   "execution_count": 13,
   "metadata": {},
   "outputs": [],
   "source": [
    "#Cleaning the 'production_budget' and 'worldwide_gross' columns so that we can create our 'roi' variable.\n",
    "#creating a list of our columns to clean.\n",
    "columns_to_clean = ['production_budget', 'worldwide_gross']\n",
    "\n",
    "#cleaning the columns.\n",
    "joined_df2[columns_to_clean] = joined_df2[columns_to_clean].replace('[/$,]', '', regex=True).astype(float)"
   ]
  },
  {
   "cell_type": "code",
   "execution_count": 14,
   "metadata": {},
   "outputs": [],
   "source": [
    "#dropping NA columns as they are irrelevant to our purposes today.\n",
    "joined_df2.dropna(inplace=True)"
   ]
  },
  {
   "cell_type": "markdown",
   "metadata": {},
   "source": [
    " Now we must create a 'roi' feature to evaluate how much money our movies are actually making. Then we will continue with our data cleaning and grouping. "
   ]
  },
  {
   "cell_type": "code",
   "execution_count": 15,
   "metadata": {},
   "outputs": [],
   "source": [
    "#creating our 'roi' feature by subtracting our 'production_budget' data from our 'worldwide_gross' data.\n",
    "joined_df2['roi'] = joined_df2['worldwide_gross'] - joined_df2['production_budget']"
   ]
  },
  {
   "cell_type": "code",
   "execution_count": 16,
   "metadata": {},
   "outputs": [],
   "source": [
    "#Renaming our title_x' column to 'title' for readability and dropping columns unneeded for now. \n",
    "joined_df2.rename(columns={'title_x': 'title'}, inplace=True)"
   ]
  },
  {
   "cell_type": "code",
   "execution_count": 17,
   "metadata": {},
   "outputs": [],
   "source": [
    "#We are going to want to use our 'release_date' column to plot how 'roi' has changed, so let's convert that into datetime format.\n",
    "joined_df2['release_date'] = pd.to_datetime(joined_df2['release_date'])"
   ]
  },
  {
   "cell_type": "code",
   "execution_count": 18,
   "metadata": {},
   "outputs": [],
   "source": [
    "#While we are at it let's add a 'release_month' column for future plotting.\n",
    "joined_df2['release_month'] = joined_df2['release_date'].dt.strftime('%B')"
   ]
  },
  {
   "cell_type": "code",
   "execution_count": 19,
   "metadata": {},
   "outputs": [],
   "source": [
    "#convert genre strings into lists\n",
    "joined_df2['genres'] = joined_df2['genres'].str.split(',')"
   ]
  },
  {
   "cell_type": "code",
   "execution_count": 48,
   "metadata": {},
   "outputs": [
    {
     "data": {
      "text/html": [
       "<div>\n",
       "<style scoped>\n",
       "    .dataframe tbody tr th:only-of-type {\n",
       "        vertical-align: middle;\n",
       "    }\n",
       "\n",
       "    .dataframe tbody tr th {\n",
       "        vertical-align: top;\n",
       "    }\n",
       "\n",
       "    .dataframe thead th {\n",
       "        text-align: right;\n",
       "    }\n",
       "</style>\n",
       "<table border=\"1\" class=\"dataframe\">\n",
       "  <thead>\n",
       "    <tr style=\"text-align: right;\">\n",
       "      <th></th>\n",
       "      <th>title</th>\n",
       "      <th>year</th>\n",
       "      <th>movie_id</th>\n",
       "      <th>genres</th>\n",
       "      <th>director</th>\n",
       "      <th>rating</th>\n",
       "      <th>release_date</th>\n",
       "      <th>production_budget</th>\n",
       "      <th>worldwide_gross</th>\n",
       "      <th>roi</th>\n",
       "      <th>release_month</th>\n",
       "    </tr>\n",
       "  </thead>\n",
       "  <tbody>\n",
       "    <tr>\n",
       "      <th>0</th>\n",
       "      <td>Toy Story 3</td>\n",
       "      <td>2010</td>\n",
       "      <td>tt0435761</td>\n",
       "      <td>[Adventure, Animation, Comedy]</td>\n",
       "      <td>Lee Unkrich</td>\n",
       "      <td>8.30</td>\n",
       "      <td>2010-06-18</td>\n",
       "      <td>200000000.00</td>\n",
       "      <td>1068879522.00</td>\n",
       "      <td>868879522.00</td>\n",
       "      <td>June</td>\n",
       "    </tr>\n",
       "    <tr>\n",
       "      <th>1</th>\n",
       "      <td>Inception</td>\n",
       "      <td>2010</td>\n",
       "      <td>tt1375666</td>\n",
       "      <td>[Action, Adventure, Sci-Fi]</td>\n",
       "      <td>Christopher Nolan</td>\n",
       "      <td>8.80</td>\n",
       "      <td>2010-07-16</td>\n",
       "      <td>160000000.00</td>\n",
       "      <td>835524642.00</td>\n",
       "      <td>675524642.00</td>\n",
       "      <td>July</td>\n",
       "    </tr>\n",
       "    <tr>\n",
       "      <th>2</th>\n",
       "      <td>Shrek Forever After</td>\n",
       "      <td>2010</td>\n",
       "      <td>tt0892791</td>\n",
       "      <td>[Adventure, Animation, Comedy]</td>\n",
       "      <td>Mike Mitchell</td>\n",
       "      <td>6.30</td>\n",
       "      <td>2010-05-21</td>\n",
       "      <td>165000000.00</td>\n",
       "      <td>756244673.00</td>\n",
       "      <td>591244673.00</td>\n",
       "      <td>May</td>\n",
       "    </tr>\n",
       "    <tr>\n",
       "      <th>3</th>\n",
       "      <td>The Twilight Saga: Eclipse</td>\n",
       "      <td>2010</td>\n",
       "      <td>tt1325004</td>\n",
       "      <td>[Adventure, Drama, Fantasy]</td>\n",
       "      <td>David Slade</td>\n",
       "      <td>5.00</td>\n",
       "      <td>2010-06-30</td>\n",
       "      <td>68000000.00</td>\n",
       "      <td>706102828.00</td>\n",
       "      <td>638102828.00</td>\n",
       "      <td>June</td>\n",
       "    </tr>\n",
       "    <tr>\n",
       "      <th>4</th>\n",
       "      <td>Iron Man 2</td>\n",
       "      <td>2010</td>\n",
       "      <td>tt1228705</td>\n",
       "      <td>[Action, Adventure, Sci-Fi]</td>\n",
       "      <td>Jon Favreau</td>\n",
       "      <td>7.00</td>\n",
       "      <td>2010-05-07</td>\n",
       "      <td>170000000.00</td>\n",
       "      <td>621156389.00</td>\n",
       "      <td>451156389.00</td>\n",
       "      <td>May</td>\n",
       "    </tr>\n",
       "  </tbody>\n",
       "</table>\n",
       "</div>"
      ],
      "text/plain": [
       "                        title  year   movie_id  \\\n",
       "0                 Toy Story 3  2010  tt0435761   \n",
       "1                   Inception  2010  tt1375666   \n",
       "2         Shrek Forever After  2010  tt0892791   \n",
       "3  The Twilight Saga: Eclipse  2010  tt1325004   \n",
       "4                  Iron Man 2  2010  tt1228705   \n",
       "\n",
       "                           genres           director  rating release_date  \\\n",
       "0  [Adventure, Animation, Comedy]        Lee Unkrich    8.30   2010-06-18   \n",
       "1     [Action, Adventure, Sci-Fi]  Christopher Nolan    8.80   2010-07-16   \n",
       "2  [Adventure, Animation, Comedy]      Mike Mitchell    6.30   2010-05-21   \n",
       "3     [Adventure, Drama, Fantasy]        David Slade    5.00   2010-06-30   \n",
       "4     [Action, Adventure, Sci-Fi]        Jon Favreau    7.00   2010-05-07   \n",
       "\n",
       "   production_budget  worldwide_gross          roi release_month  \n",
       "0       200000000.00    1068879522.00 868879522.00          June  \n",
       "1       160000000.00     835524642.00 675524642.00          July  \n",
       "2       165000000.00     756244673.00 591244673.00           May  \n",
       "3        68000000.00     706102828.00 638102828.00          June  \n",
       "4       170000000.00     621156389.00 451156389.00           May  "
      ]
     },
     "execution_count": 48,
     "metadata": {},
     "output_type": "execute_result"
    }
   ],
   "source": [
    "joined_df2.head()"
   ]
  },
  {
   "cell_type": "code",
   "execution_count": 49,
   "metadata": {},
   "outputs": [
    {
     "name": "stdout",
     "output_type": "stream",
     "text": [
      "<class 'pandas.core.frame.DataFrame'>\n",
      "Index: 988 entries, 0 to 1009\n",
      "Data columns (total 11 columns):\n",
      " #   Column             Non-Null Count  Dtype         \n",
      "---  ------             --------------  -----         \n",
      " 0   title              988 non-null    object        \n",
      " 1   year               988 non-null    int64         \n",
      " 2   movie_id           988 non-null    object        \n",
      " 3   genres             988 non-null    object        \n",
      " 4   director           988 non-null    object        \n",
      " 5   rating             988 non-null    float64       \n",
      " 6   release_date       988 non-null    datetime64[ns]\n",
      " 7   production_budget  988 non-null    float64       \n",
      " 8   worldwide_gross    988 non-null    float64       \n",
      " 9   roi                988 non-null    float64       \n",
      " 10  release_month      988 non-null    object        \n",
      "dtypes: datetime64[ns](1), float64(4), int64(1), object(5)\n",
      "memory usage: 92.6+ KB\n"
     ]
    }
   ],
   "source": [
    "joined_df2.info()"
   ]
  },
  {
   "cell_type": "code",
   "execution_count": 50,
   "metadata": {},
   "outputs": [
    {
     "data": {
      "text/html": [
       "<div>\n",
       "<style scoped>\n",
       "    .dataframe tbody tr th:only-of-type {\n",
       "        vertical-align: middle;\n",
       "    }\n",
       "\n",
       "    .dataframe tbody tr th {\n",
       "        vertical-align: top;\n",
       "    }\n",
       "\n",
       "    .dataframe thead th {\n",
       "        text-align: right;\n",
       "    }\n",
       "</style>\n",
       "<table border=\"1\" class=\"dataframe\">\n",
       "  <thead>\n",
       "    <tr style=\"text-align: right;\">\n",
       "      <th></th>\n",
       "      <th>year</th>\n",
       "      <th>rating</th>\n",
       "      <th>release_date</th>\n",
       "      <th>production_budget</th>\n",
       "      <th>worldwide_gross</th>\n",
       "      <th>roi</th>\n",
       "    </tr>\n",
       "  </thead>\n",
       "  <tbody>\n",
       "    <tr>\n",
       "      <th>count</th>\n",
       "      <td>988.00</td>\n",
       "      <td>988.00</td>\n",
       "      <td>988</td>\n",
       "      <td>988.00</td>\n",
       "      <td>988.00</td>\n",
       "      <td>988.00</td>\n",
       "    </tr>\n",
       "    <tr>\n",
       "      <th>mean</th>\n",
       "      <td>2013.57</td>\n",
       "      <td>6.46</td>\n",
       "      <td>2014-01-08 01:04:07.773279232</td>\n",
       "      <td>54862563.41</td>\n",
       "      <td>182972644.87</td>\n",
       "      <td>128110081.46</td>\n",
       "    </tr>\n",
       "    <tr>\n",
       "      <th>min</th>\n",
       "      <td>2010.00</td>\n",
       "      <td>1.60</td>\n",
       "      <td>1967-09-18 00:00:00</td>\n",
       "      <td>100000.00</td>\n",
       "      <td>0.00</td>\n",
       "      <td>-110450242.00</td>\n",
       "    </tr>\n",
       "    <tr>\n",
       "      <th>25%</th>\n",
       "      <td>2011.00</td>\n",
       "      <td>5.90</td>\n",
       "      <td>2011-10-28 00:00:00</td>\n",
       "      <td>15000000.00</td>\n",
       "      <td>35005832.50</td>\n",
       "      <td>11745706.25</td>\n",
       "    </tr>\n",
       "    <tr>\n",
       "      <th>50%</th>\n",
       "      <td>2013.00</td>\n",
       "      <td>6.50</td>\n",
       "      <td>2013-12-05 00:00:00</td>\n",
       "      <td>32000000.00</td>\n",
       "      <td>87350563.00</td>\n",
       "      <td>49629118.50</td>\n",
       "    </tr>\n",
       "    <tr>\n",
       "      <th>75%</th>\n",
       "      <td>2016.00</td>\n",
       "      <td>7.10</td>\n",
       "      <td>2016-03-16 12:00:00</td>\n",
       "      <td>70000000.00</td>\n",
       "      <td>217253291.25</td>\n",
       "      <td>149590908.25</td>\n",
       "    </tr>\n",
       "    <tr>\n",
       "      <th>max</th>\n",
       "      <td>2018.00</td>\n",
       "      <td>9.20</td>\n",
       "      <td>2018-12-25 00:00:00</td>\n",
       "      <td>410600000.00</td>\n",
       "      <td>2048134200.00</td>\n",
       "      <td>1748134200.00</td>\n",
       "    </tr>\n",
       "    <tr>\n",
       "      <th>std</th>\n",
       "      <td>2.55</td>\n",
       "      <td>0.97</td>\n",
       "      <td>NaN</td>\n",
       "      <td>59221799.36</td>\n",
       "      <td>252433426.77</td>\n",
       "      <td>210482268.27</td>\n",
       "    </tr>\n",
       "  </tbody>\n",
       "</table>\n",
       "</div>"
      ],
      "text/plain": [
       "         year  rating                   release_date  production_budget  \\\n",
       "count  988.00  988.00                            988             988.00   \n",
       "mean  2013.57    6.46  2014-01-08 01:04:07.773279232        54862563.41   \n",
       "min   2010.00    1.60            1967-09-18 00:00:00          100000.00   \n",
       "25%   2011.00    5.90            2011-10-28 00:00:00        15000000.00   \n",
       "50%   2013.00    6.50            2013-12-05 00:00:00        32000000.00   \n",
       "75%   2016.00    7.10            2016-03-16 12:00:00        70000000.00   \n",
       "max   2018.00    9.20            2018-12-25 00:00:00       410600000.00   \n",
       "std      2.55    0.97                            NaN        59221799.36   \n",
       "\n",
       "       worldwide_gross           roi  \n",
       "count           988.00        988.00  \n",
       "mean      182972644.87  128110081.46  \n",
       "min               0.00 -110450242.00  \n",
       "25%        35005832.50   11745706.25  \n",
       "50%        87350563.00   49629118.50  \n",
       "75%       217253291.25  149590908.25  \n",
       "max      2048134200.00 1748134200.00  \n",
       "std       252433426.77  210482268.27  "
      ]
     },
     "execution_count": 50,
     "metadata": {},
     "output_type": "execute_result"
    }
   ],
   "source": [
    "joined_df2.describe()"
   ]
  },
  {
   "cell_type": "markdown",
   "metadata": {},
   "source": [
    "## Now we will explode our dataset based upon 'genres' as the 'genres' values are often subdivided so we end up with unrealistic values such as 'Adventure / Animation / Comedy' that are hard to understand. This will help us avoid statistical errors like misattributing profits to multi-genre categories instead of individual genres, inflating or deflating genre-specific insights, and skewing trend analysis due to inconsistent classifications."
   ]
  },
  {
   "cell_type": "code",
   "execution_count": 20,
   "metadata": {},
   "outputs": [],
   "source": [
    "#exploding our dataset based upon 'genres'\n",
    "joined_df2_exploded = joined_df2.explode('genres')"
   ]
  },
  {
   "cell_type": "code",
   "execution_count": 51,
   "metadata": {},
   "outputs": [
    {
     "data": {
      "text/plain": [
       "genres\n",
       "Drama          459\n",
       "Comedy         359\n",
       "Action         321\n",
       "Adventure      276\n",
       "Thriller       173\n",
       "Crime          155\n",
       "Romance        129\n",
       "Horror          98\n",
       "Sci-Fi          96\n",
       "Mystery         87\n",
       "Biography       86\n",
       "Fantasy         84\n",
       "Animation       83\n",
       "Family          65\n",
       "History         30\n",
       "Music           29\n",
       "Sport           17\n",
       "Documentary     11\n",
       "Western          5\n",
       "War              5\n",
       "Musical          3\n",
       "Name: count, dtype: int64"
      ]
     },
     "execution_count": 51,
     "metadata": {},
     "output_type": "execute_result"
    }
   ],
   "source": [
    "joined_df2_exploded['genres'].value_counts()"
   ]
  },
  {
   "cell_type": "code",
   "execution_count": 21,
   "metadata": {},
   "outputs": [],
   "source": [
    "#Transforming our 'roi' and 'production_budget' columns to reflect this genre split.\n",
    "joined_df2_exploded['roi'] = joined_df2_exploded.groupby('title')['roi'].transform(lambda x: x / x.count())\n",
    "joined_df2_exploded['production_budget'] = joined_df2_exploded.groupby('title')['production_budget'].transform(lambda x: x / x.count())"
   ]
  },
  {
   "cell_type": "code",
   "execution_count": 56,
   "metadata": {},
   "outputs": [
    {
     "data": {
      "text/html": [
       "<div>\n",
       "<style scoped>\n",
       "    .dataframe tbody tr th:only-of-type {\n",
       "        vertical-align: middle;\n",
       "    }\n",
       "\n",
       "    .dataframe tbody tr th {\n",
       "        vertical-align: top;\n",
       "    }\n",
       "\n",
       "    .dataframe thead th {\n",
       "        text-align: right;\n",
       "    }\n",
       "</style>\n",
       "<table border=\"1\" class=\"dataframe\">\n",
       "  <thead>\n",
       "    <tr style=\"text-align: right;\">\n",
       "      <th></th>\n",
       "      <th>title</th>\n",
       "      <th>year</th>\n",
       "      <th>movie_id</th>\n",
       "      <th>genres</th>\n",
       "      <th>director</th>\n",
       "      <th>rating</th>\n",
       "      <th>release_date</th>\n",
       "      <th>production_budget</th>\n",
       "      <th>worldwide_gross</th>\n",
       "      <th>roi</th>\n",
       "      <th>release_month</th>\n",
       "    </tr>\n",
       "  </thead>\n",
       "  <tbody>\n",
       "    <tr>\n",
       "      <th>0</th>\n",
       "      <td>Toy Story 3</td>\n",
       "      <td>2010</td>\n",
       "      <td>tt0435761</td>\n",
       "      <td>Adventure</td>\n",
       "      <td>Lee Unkrich</td>\n",
       "      <td>8.30</td>\n",
       "      <td>2010-06-18</td>\n",
       "      <td>66666666.67</td>\n",
       "      <td>1068879522.00</td>\n",
       "      <td>289626507.33</td>\n",
       "      <td>June</td>\n",
       "    </tr>\n",
       "    <tr>\n",
       "      <th>0</th>\n",
       "      <td>Toy Story 3</td>\n",
       "      <td>2010</td>\n",
       "      <td>tt0435761</td>\n",
       "      <td>Animation</td>\n",
       "      <td>Lee Unkrich</td>\n",
       "      <td>8.30</td>\n",
       "      <td>2010-06-18</td>\n",
       "      <td>66666666.67</td>\n",
       "      <td>1068879522.00</td>\n",
       "      <td>289626507.33</td>\n",
       "      <td>June</td>\n",
       "    </tr>\n",
       "    <tr>\n",
       "      <th>0</th>\n",
       "      <td>Toy Story 3</td>\n",
       "      <td>2010</td>\n",
       "      <td>tt0435761</td>\n",
       "      <td>Comedy</td>\n",
       "      <td>Lee Unkrich</td>\n",
       "      <td>8.30</td>\n",
       "      <td>2010-06-18</td>\n",
       "      <td>66666666.67</td>\n",
       "      <td>1068879522.00</td>\n",
       "      <td>289626507.33</td>\n",
       "      <td>June</td>\n",
       "    </tr>\n",
       "    <tr>\n",
       "      <th>1</th>\n",
       "      <td>Inception</td>\n",
       "      <td>2010</td>\n",
       "      <td>tt1375666</td>\n",
       "      <td>Action</td>\n",
       "      <td>Christopher Nolan</td>\n",
       "      <td>8.80</td>\n",
       "      <td>2010-07-16</td>\n",
       "      <td>53333333.33</td>\n",
       "      <td>835524642.00</td>\n",
       "      <td>225174880.67</td>\n",
       "      <td>July</td>\n",
       "    </tr>\n",
       "    <tr>\n",
       "      <th>1</th>\n",
       "      <td>Inception</td>\n",
       "      <td>2010</td>\n",
       "      <td>tt1375666</td>\n",
       "      <td>Adventure</td>\n",
       "      <td>Christopher Nolan</td>\n",
       "      <td>8.80</td>\n",
       "      <td>2010-07-16</td>\n",
       "      <td>53333333.33</td>\n",
       "      <td>835524642.00</td>\n",
       "      <td>225174880.67</td>\n",
       "      <td>July</td>\n",
       "    </tr>\n",
       "  </tbody>\n",
       "</table>\n",
       "</div>"
      ],
      "text/plain": [
       "         title  year   movie_id     genres           director  rating  \\\n",
       "0  Toy Story 3  2010  tt0435761  Adventure        Lee Unkrich    8.30   \n",
       "0  Toy Story 3  2010  tt0435761  Animation        Lee Unkrich    8.30   \n",
       "0  Toy Story 3  2010  tt0435761     Comedy        Lee Unkrich    8.30   \n",
       "1    Inception  2010  tt1375666     Action  Christopher Nolan    8.80   \n",
       "1    Inception  2010  tt1375666  Adventure  Christopher Nolan    8.80   \n",
       "\n",
       "  release_date  production_budget  worldwide_gross          roi release_month  \n",
       "0   2010-06-18        66666666.67    1068879522.00 289626507.33          June  \n",
       "0   2010-06-18        66666666.67    1068879522.00 289626507.33          June  \n",
       "0   2010-06-18        66666666.67    1068879522.00 289626507.33          June  \n",
       "1   2010-07-16        53333333.33     835524642.00 225174880.67          July  \n",
       "1   2010-07-16        53333333.33     835524642.00 225174880.67          July  "
      ]
     },
     "execution_count": 56,
     "metadata": {},
     "output_type": "execute_result"
    }
   ],
   "source": [
    "joined_df2_exploded.head()"
   ]
  },
  {
   "cell_type": "code",
   "execution_count": 57,
   "metadata": {},
   "outputs": [
    {
     "data": {
      "text/html": [
       "<div>\n",
       "<style scoped>\n",
       "    .dataframe tbody tr th:only-of-type {\n",
       "        vertical-align: middle;\n",
       "    }\n",
       "\n",
       "    .dataframe tbody tr th {\n",
       "        vertical-align: top;\n",
       "    }\n",
       "\n",
       "    .dataframe thead th {\n",
       "        text-align: right;\n",
       "    }\n",
       "</style>\n",
       "<table border=\"1\" class=\"dataframe\">\n",
       "  <thead>\n",
       "    <tr style=\"text-align: right;\">\n",
       "      <th></th>\n",
       "      <th>year</th>\n",
       "      <th>rating</th>\n",
       "      <th>release_date</th>\n",
       "      <th>production_budget</th>\n",
       "      <th>worldwide_gross</th>\n",
       "      <th>roi</th>\n",
       "    </tr>\n",
       "  </thead>\n",
       "  <tbody>\n",
       "    <tr>\n",
       "      <th>count</th>\n",
       "      <td>2571.00</td>\n",
       "      <td>2571.00</td>\n",
       "      <td>2571</td>\n",
       "      <td>2571.00</td>\n",
       "      <td>2571.00</td>\n",
       "      <td>2571.00</td>\n",
       "    </tr>\n",
       "    <tr>\n",
       "      <th>mean</th>\n",
       "      <td>2013.60</td>\n",
       "      <td>6.48</td>\n",
       "      <td>2014-01-17 04:06:26.464410880</td>\n",
       "      <td>20955907.29</td>\n",
       "      <td>195788698.44</td>\n",
       "      <td>49056203.83</td>\n",
       "    </tr>\n",
       "    <tr>\n",
       "      <th>min</th>\n",
       "      <td>2010.00</td>\n",
       "      <td>1.60</td>\n",
       "      <td>1967-09-18 00:00:00</td>\n",
       "      <td>33333.33</td>\n",
       "      <td>0.00</td>\n",
       "      <td>-36816747.33</td>\n",
       "    </tr>\n",
       "    <tr>\n",
       "      <th>25%</th>\n",
       "      <td>2011.00</td>\n",
       "      <td>5.90</td>\n",
       "      <td>2011-10-31 12:00:00</td>\n",
       "      <td>6000000.00</td>\n",
       "      <td>36374700.00</td>\n",
       "      <td>4636336.00</td>\n",
       "    </tr>\n",
       "    <tr>\n",
       "      <th>50%</th>\n",
       "      <td>2013.00</td>\n",
       "      <td>6.60</td>\n",
       "      <td>2013-12-13 00:00:00</td>\n",
       "      <td>13333333.33</td>\n",
       "      <td>92088460.00</td>\n",
       "      <td>19305761.00</td>\n",
       "    </tr>\n",
       "    <tr>\n",
       "      <th>75%</th>\n",
       "      <td>2016.00</td>\n",
       "      <td>7.10</td>\n",
       "      <td>2016-04-08 00:00:00</td>\n",
       "      <td>28333333.33</td>\n",
       "      <td>238522901.50</td>\n",
       "      <td>58168894.83</td>\n",
       "    </tr>\n",
       "    <tr>\n",
       "      <th>max</th>\n",
       "      <td>2018.00</td>\n",
       "      <td>9.20</td>\n",
       "      <td>2018-12-25 00:00:00</td>\n",
       "      <td>137500000.00</td>\n",
       "      <td>2048134200.00</td>\n",
       "      <td>582711400.00</td>\n",
       "    </tr>\n",
       "    <tr>\n",
       "      <th>std</th>\n",
       "      <td>2.56</td>\n",
       "      <td>0.95</td>\n",
       "      <td>NaN</td>\n",
       "      <td>21330724.70</td>\n",
       "      <td>263740083.17</td>\n",
       "      <td>76514342.32</td>\n",
       "    </tr>\n",
       "  </tbody>\n",
       "</table>\n",
       "</div>"
      ],
      "text/plain": [
       "         year  rating                   release_date  production_budget  \\\n",
       "count 2571.00 2571.00                           2571            2571.00   \n",
       "mean  2013.60    6.48  2014-01-17 04:06:26.464410880        20955907.29   \n",
       "min   2010.00    1.60            1967-09-18 00:00:00           33333.33   \n",
       "25%   2011.00    5.90            2011-10-31 12:00:00         6000000.00   \n",
       "50%   2013.00    6.60            2013-12-13 00:00:00        13333333.33   \n",
       "75%   2016.00    7.10            2016-04-08 00:00:00        28333333.33   \n",
       "max   2018.00    9.20            2018-12-25 00:00:00       137500000.00   \n",
       "std      2.56    0.95                            NaN        21330724.70   \n",
       "\n",
       "       worldwide_gross          roi  \n",
       "count          2571.00      2571.00  \n",
       "mean      195788698.44  49056203.83  \n",
       "min               0.00 -36816747.33  \n",
       "25%        36374700.00   4636336.00  \n",
       "50%        92088460.00  19305761.00  \n",
       "75%       238522901.50  58168894.83  \n",
       "max      2048134200.00 582711400.00  \n",
       "std       263740083.17  76514342.32  "
      ]
     },
     "execution_count": 57,
     "metadata": {},
     "output_type": "execute_result"
    }
   ],
   "source": [
    "joined_df2_exploded.describe()"
   ]
  },
  {
   "cell_type": "code",
   "execution_count": 156,
   "metadata": {},
   "outputs": [
    {
     "data": {
      "image/png": "[encoded data removed]",
      "text/plain": [
       "<Figure size 640x480 with 1 Axes>"
      ]
     },
     "metadata": {},
     "output_type": "display_data"
    }
   ],
   "source": [
    "plt.scatter(data=joined_df2_exploded, x='production_budget', y='roi');"
   ]
  },
  {
   "cell_type": "markdown",
   "metadata": {},
   "source": [
    "### It is necessary to create a function now so that we can subdivide our dataset using the quantiles for our 'production_budget' category. First we will get the quantiles for our 'production_budget' column so that we can assign a categorical descriptor to each move based upon what budget range it falls into. "
   ]
  },
  {
   "cell_type": "code",
   "execution_count": 22,
   "metadata": {},
   "outputs": [
    {
     "name": "stdout",
     "output_type": "stream",
     "text": [
      "0.00       33333.33\n",
      "0.20     5000000.00\n",
      "0.40    10000000.00\n",
      "0.60    16666666.67\n",
      "0.80    35000000.00\n",
      "1.00   137500000.00\n",
      "Name: production_budget, dtype: float64\n"
     ]
    }
   ],
   "source": [
    "#getting our quantiles\n",
    "quantiles = joined_df2_exploded['production_budget'].quantile([0, 0.2, 0.4, 0.6, 0.8, 1.0])\n",
    "print(quantiles)"
   ]
  },
  {
   "cell_type": "code",
   "execution_count": 23,
   "metadata": {},
   "outputs": [],
   "source": [
    "#changing this to a list so that we can use it in our function.\n",
    "quantiles = list(quantiles)"
   ]
  },
  {
   "cell_type": "code",
   "execution_count": 24,
   "metadata": {},
   "outputs": [],
   "source": [
    "#Creating our function that will help us create a 'production_budget_category' variable. \n",
    "#Note that we will assign our categories using our quantiles to allow us to re-use this function should our dataset change,\n",
    "#for example.\n",
    "\n",
    "def categorize_budget(budget, quantile_list):\n",
    "    if budget <= int(quantile_list[1]):\n",
    "        return 'Lower'\n",
    "    elif budget > quantile_list[1] and budget <= quantile_list[2]:\n",
    "        return 'Lower Middle'\n",
    "    elif budget > quantile_list[2] and budget <= quantile_list[3]:\n",
    "        return 'Middle'\n",
    "    elif budget > quantile_list[3] and budget <= quantile_list[4]:\n",
    "        return 'Upper Middle'\n",
    "    elif budget < quantile_list[5]:\n",
    "        return 'Upper'\n"
   ]
  },
  {
   "cell_type": "code",
   "execution_count": 102,
   "metadata": {},
   "outputs": [],
   "source": [
    "genres_df = joined_df2_exploded.groupby(['genres'])[(['roi'])].median().reset_index().sort_values(by='roi', ascending=False)"
   ]
  },
  {
   "cell_type": "code",
   "execution_count": 147,
   "metadata": {},
   "outputs": [
    {
     "data": {
      "image/png": "[encoded data removed]",
      "text/plain": [
       "<Figure size 640x480 with 1 Axes>"
      ]
     },
     "metadata": {},
     "output_type": "display_data"
    }
   ],
   "source": [
    "sns.barplot(data=genres_df, \n",
    "            x='roi', \n",
    "            y='genres',\n",
    "            hue='genres');\n"
   ]
  },
  {
   "cell_type": "code",
   "execution_count": 148,
   "metadata": {},
   "outputs": [
    {
     "data": {
      "text/html": [
       "<div>\n",
       "<style scoped>\n",
       "    .dataframe tbody tr th:only-of-type {\n",
       "        vertical-align: middle;\n",
       "    }\n",
       "\n",
       "    .dataframe tbody tr th {\n",
       "        vertical-align: top;\n",
       "    }\n",
       "\n",
       "    .dataframe thead th {\n",
       "        text-align: right;\n",
       "    }\n",
       "</style>\n",
       "<table border=\"1\" class=\"dataframe\">\n",
       "  <thead>\n",
       "    <tr style=\"text-align: right;\">\n",
       "      <th></th>\n",
       "      <th>title</th>\n",
       "      <th>year</th>\n",
       "      <th>movie_id</th>\n",
       "      <th>genres</th>\n",
       "      <th>director</th>\n",
       "      <th>rating</th>\n",
       "      <th>release_date</th>\n",
       "      <th>production_budget</th>\n",
       "      <th>worldwide_gross</th>\n",
       "      <th>roi</th>\n",
       "      <th>release_month</th>\n",
       "    </tr>\n",
       "  </thead>\n",
       "  <tbody>\n",
       "    <tr>\n",
       "      <th>0</th>\n",
       "      <td>Toy Story 3</td>\n",
       "      <td>2010</td>\n",
       "      <td>tt0435761</td>\n",
       "      <td>Adventure</td>\n",
       "      <td>Lee Unkrich</td>\n",
       "      <td>8.30</td>\n",
       "      <td>2010-06-18</td>\n",
       "      <td>66666666.67</td>\n",
       "      <td>1068879522.00</td>\n",
       "      <td>289626507.33</td>\n",
       "      <td>June</td>\n",
       "    </tr>\n",
       "    <tr>\n",
       "      <th>0</th>\n",
       "      <td>Toy Story 3</td>\n",
       "      <td>2010</td>\n",
       "      <td>tt0435761</td>\n",
       "      <td>Animation</td>\n",
       "      <td>Lee Unkrich</td>\n",
       "      <td>8.30</td>\n",
       "      <td>2010-06-18</td>\n",
       "      <td>66666666.67</td>\n",
       "      <td>1068879522.00</td>\n",
       "      <td>289626507.33</td>\n",
       "      <td>June</td>\n",
       "    </tr>\n",
       "    <tr>\n",
       "      <th>0</th>\n",
       "      <td>Toy Story 3</td>\n",
       "      <td>2010</td>\n",
       "      <td>tt0435761</td>\n",
       "      <td>Comedy</td>\n",
       "      <td>Lee Unkrich</td>\n",
       "      <td>8.30</td>\n",
       "      <td>2010-06-18</td>\n",
       "      <td>66666666.67</td>\n",
       "      <td>1068879522.00</td>\n",
       "      <td>289626507.33</td>\n",
       "      <td>June</td>\n",
       "    </tr>\n",
       "    <tr>\n",
       "      <th>1</th>\n",
       "      <td>Inception</td>\n",
       "      <td>2010</td>\n",
       "      <td>tt1375666</td>\n",
       "      <td>Action</td>\n",
       "      <td>Christopher Nolan</td>\n",
       "      <td>8.80</td>\n",
       "      <td>2010-07-16</td>\n",
       "      <td>53333333.33</td>\n",
       "      <td>835524642.00</td>\n",
       "      <td>225174880.67</td>\n",
       "      <td>July</td>\n",
       "    </tr>\n",
       "    <tr>\n",
       "      <th>1</th>\n",
       "      <td>Inception</td>\n",
       "      <td>2010</td>\n",
       "      <td>tt1375666</td>\n",
       "      <td>Adventure</td>\n",
       "      <td>Christopher Nolan</td>\n",
       "      <td>8.80</td>\n",
       "      <td>2010-07-16</td>\n",
       "      <td>53333333.33</td>\n",
       "      <td>835524642.00</td>\n",
       "      <td>225174880.67</td>\n",
       "      <td>July</td>\n",
       "    </tr>\n",
       "  </tbody>\n",
       "</table>\n",
       "</div>"
      ],
      "text/plain": [
       "         title  year   movie_id     genres           director  rating  \\\n",
       "0  Toy Story 3  2010  tt0435761  Adventure        Lee Unkrich    8.30   \n",
       "0  Toy Story 3  2010  tt0435761  Animation        Lee Unkrich    8.30   \n",
       "0  Toy Story 3  2010  tt0435761     Comedy        Lee Unkrich    8.30   \n",
       "1    Inception  2010  tt1375666     Action  Christopher Nolan    8.80   \n",
       "1    Inception  2010  tt1375666  Adventure  Christopher Nolan    8.80   \n",
       "\n",
       "  release_date  production_budget  worldwide_gross          roi release_month  \n",
       "0   2010-06-18        66666666.67    1068879522.00 289626507.33          June  \n",
       "0   2010-06-18        66666666.67    1068879522.00 289626507.33          June  \n",
       "0   2010-06-18        66666666.67    1068879522.00 289626507.33          June  \n",
       "1   2010-07-16        53333333.33     835524642.00 225174880.67          July  \n",
       "1   2010-07-16        53333333.33     835524642.00 225174880.67          July  "
      ]
     },
     "execution_count": 148,
     "metadata": {},
     "output_type": "execute_result"
    }
   ],
   "source": [
    "joined_df2_exploded.head()"
   ]
  },
  {
   "cell_type": "code",
   "execution_count": 149,
   "metadata": {},
   "outputs": [],
   "source": [
    "animation_df = joined_df2_exploded[joined_df2_exploded['genres'] == 'Animation']"
   ]
  },
  {
   "cell_type": "code",
   "execution_count": 150,
   "metadata": {},
   "outputs": [
    {
     "data": {
      "text/html": [
       "<div>\n",
       "<style scoped>\n",
       "    .dataframe tbody tr th:only-of-type {\n",
       "        vertical-align: middle;\n",
       "    }\n",
       "\n",
       "    .dataframe tbody tr th {\n",
       "        vertical-align: top;\n",
       "    }\n",
       "\n",
       "    .dataframe thead th {\n",
       "        text-align: right;\n",
       "    }\n",
       "</style>\n",
       "<table border=\"1\" class=\"dataframe\">\n",
       "  <thead>\n",
       "    <tr style=\"text-align: right;\">\n",
       "      <th></th>\n",
       "      <th>year</th>\n",
       "      <th>rating</th>\n",
       "      <th>release_date</th>\n",
       "      <th>production_budget</th>\n",
       "      <th>worldwide_gross</th>\n",
       "      <th>roi</th>\n",
       "    </tr>\n",
       "  </thead>\n",
       "  <tbody>\n",
       "    <tr>\n",
       "      <th>count</th>\n",
       "      <td>83.00</td>\n",
       "      <td>83.00</td>\n",
       "      <td>83</td>\n",
       "      <td>83.00</td>\n",
       "      <td>83.00</td>\n",
       "      <td>83.00</td>\n",
       "    </tr>\n",
       "    <tr>\n",
       "      <th>mean</th>\n",
       "      <td>2013.88</td>\n",
       "      <td>6.63</td>\n",
       "      <td>2014-06-12 08:40:28.915662592</td>\n",
       "      <td>35552208.84</td>\n",
       "      <td>399499161.00</td>\n",
       "      <td>100448162.62</td>\n",
       "    </tr>\n",
       "    <tr>\n",
       "      <th>min</th>\n",
       "      <td>2010.00</td>\n",
       "      <td>3.20</td>\n",
       "      <td>2010-03-26 00:00:00</td>\n",
       "      <td>2666666.67</td>\n",
       "      <td>648599.00</td>\n",
       "      <td>-36816747.33</td>\n",
       "    </tr>\n",
       "    <tr>\n",
       "      <th>25%</th>\n",
       "      <td>2011.50</td>\n",
       "      <td>6.20</td>\n",
       "      <td>2012-02-23 00:00:00</td>\n",
       "      <td>20500000.00</td>\n",
       "      <td>153836795.00</td>\n",
       "      <td>33875761.00</td>\n",
       "    </tr>\n",
       "    <tr>\n",
       "      <th>50%</th>\n",
       "      <td>2014.00</td>\n",
       "      <td>6.70</td>\n",
       "      <td>2014-03-28 00:00:00</td>\n",
       "      <td>31666666.67</td>\n",
       "      <td>347136477.00</td>\n",
       "      <td>78314177.00</td>\n",
       "    </tr>\n",
       "    <tr>\n",
       "      <th>75%</th>\n",
       "      <td>2016.00</td>\n",
       "      <td>7.20</td>\n",
       "      <td>2016-09-05 12:00:00</td>\n",
       "      <td>48333333.33</td>\n",
       "      <td>557571430.00</td>\n",
       "      <td>148636291.33</td>\n",
       "    </tr>\n",
       "    <tr>\n",
       "      <th>max</th>\n",
       "      <td>2018.00</td>\n",
       "      <td>8.30</td>\n",
       "      <td>2018-09-28 00:00:00</td>\n",
       "      <td>130000000.00</td>\n",
       "      <td>1242520711.00</td>\n",
       "      <td>362112057.67</td>\n",
       "    </tr>\n",
       "    <tr>\n",
       "      <th>std</th>\n",
       "      <td>2.57</td>\n",
       "      <td>0.90</td>\n",
       "      <td>NaN</td>\n",
       "      <td>20620965.20</td>\n",
       "      <td>298058762.26</td>\n",
       "      <td>91523747.46</td>\n",
       "    </tr>\n",
       "  </tbody>\n",
       "</table>\n",
       "</div>"
      ],
      "text/plain": [
       "         year  rating                   release_date  production_budget  \\\n",
       "count   83.00   83.00                             83              83.00   \n",
       "mean  2013.88    6.63  2014-06-12 08:40:28.915662592        35552208.84   \n",
       "min   2010.00    3.20            2010-03-26 00:00:00         2666666.67   \n",
       "25%   2011.50    6.20            2012-02-23 00:00:00        20500000.00   \n",
       "50%   2014.00    6.70            2014-03-28 00:00:00        31666666.67   \n",
       "75%   2016.00    7.20            2016-09-05 12:00:00        48333333.33   \n",
       "max   2018.00    8.30            2018-09-28 00:00:00       130000000.00   \n",
       "std      2.57    0.90                            NaN        20620965.20   \n",
       "\n",
       "       worldwide_gross          roi  \n",
       "count            83.00        83.00  \n",
       "mean      399499161.00 100448162.62  \n",
       "min          648599.00 -36816747.33  \n",
       "25%       153836795.00  33875761.00  \n",
       "50%       347136477.00  78314177.00  \n",
       "75%       557571430.00 148636291.33  \n",
       "max      1242520711.00 362112057.67  \n",
       "std       298058762.26  91523747.46  "
      ]
     },
     "execution_count": 150,
     "metadata": {},
     "output_type": "execute_result"
    }
   ],
   "source": [
    "animation_df.describe()"
   ]
  },
  {
   "cell_type": "code",
   "execution_count": 151,
   "metadata": {},
   "outputs": [
    {
     "name": "stderr",
     "output_type": "stream",
     "text": [
      "/var/folders/qy/1fbdqvs15l90zd206lt5vvv80000gp/T/ipykernel_78970/845884158.py:1: SettingWithCopyWarning: \n",
      "A value is trying to be set on a copy of a slice from a DataFrame.\n",
      "Try using .loc[row_indexer,col_indexer] = value instead\n",
      "\n",
      "See the caveats in the documentation: https://pandas.pydata.org/pandas-docs/stable/user_guide/indexing.html#returning-a-view-versus-a-copy\n",
      "  animation_df['production_budget_category'] = animation_df['production_budget'].apply(lambda x: categorize_budget(x, quantiles))\n"
     ]
    }
   ],
   "source": [
    "animation_df['production_budget_category'] = animation_df['production_budget'].apply(lambda x: categorize_budget(x, quantiles))"
   ]
  },
  {
   "cell_type": "code",
   "execution_count": 152,
   "metadata": {},
   "outputs": [],
   "source": [
    "animation_by_budget_df = animation_df.groupby(['production_budget_category'])[(['roi'])].median().reset_index().sort_values(by='roi', ascending=False)"
   ]
  },
  {
   "cell_type": "code",
   "execution_count": 153,
   "metadata": {},
   "outputs": [
    {
     "data": {
      "image/png": "[encoded data removed]",
      "text/plain": [
       "<Figure size 640x480 with 1 Axes>"
      ]
     },
     "metadata": {},
     "output_type": "display_data"
    }
   ],
   "source": [
    "sns.barplot(data=animation_by_budget_df, \n",
    "            x='production_budget_category', \n",
    "            y='roi',\n",
    "            hue='production_budget_category');\n"
   ]
  },
  {
   "cell_type": "code",
   "execution_count": 164,
   "metadata": {},
   "outputs": [],
   "source": [
    "best_animation_directors_df = animation_df.groupby(['director'])[(['roi', 'production_budget'])].median().reset_index().sort_values(by='roi', ascending=False).head(12)"
   ]
  },
  {
   "cell_type": "code",
   "execution_count": 165,
   "metadata": {},
   "outputs": [],
   "source": [
    "best_animation_directors_df['production_budget_category'] = best_animation_directors_df['production_budget'].apply(lambda x: categorize_budget(x, quantiles))"
   ]
  },
  {
   "cell_type": "code",
   "execution_count": 166,
   "metadata": {},
   "outputs": [
    {
     "data": {
      "image/png": "[encoded data removed]",
      "text/plain": [
       "<Figure size 640x480 with 1 Axes>"
      ]
     },
     "metadata": {},
     "output_type": "display_data"
    }
   ],
   "source": [
    "sns.barplot(data=best_animation_directors_df, \n",
    "            x='director', \n",
    "            y='roi',\n",
    "            hue='production_budget_category')\n",
    "\n",
    "plt.xticks(rotation=90);\n"
   ]
  },
  {
   "cell_type": "markdown",
   "metadata": {},
   "source": [
    "First we will find the highest grossing directors for each of these categories. "
   ]
  },
  {
   "cell_type": "markdown",
   "metadata": {},
   "source": [
    "<img src=\"cinemaexcitement.jpg\" alt=\"Cinema Audience Excited\" width=\"800\"/>"
   ]
  },
  {
   "cell_type": "code",
   "execution_count": 25,
   "metadata": {},
   "outputs": [],
   "source": [
    "#Creating our new dataframe using groupby to show us the median roi for each director. \n",
    "director_profits_df = joined_df2_exploded.groupby(['director'])[(['roi', 'production_budget'])].median().reset_index()"
   ]
  },
  {
   "cell_type": "code",
   "execution_count": 26,
   "metadata": {},
   "outputs": [],
   "source": [
    "#using our function on the dataframe\n",
    "director_profits_df['production_budget_category'] = director_profits_df['production_budget'].apply(lambda x: categorize_budget(x, quantiles))"
   ]
  },
  {
   "cell_type": "code",
   "execution_count": 58,
   "metadata": {
    "scrolled": true
   },
   "outputs": [
    {
     "data": {
      "text/html": [
       "<div>\n",
       "<style scoped>\n",
       "    .dataframe tbody tr th:only-of-type {\n",
       "        vertical-align: middle;\n",
       "    }\n",
       "\n",
       "    .dataframe tbody tr th {\n",
       "        vertical-align: top;\n",
       "    }\n",
       "\n",
       "    .dataframe thead th {\n",
       "        text-align: right;\n",
       "    }\n",
       "</style>\n",
       "<table border=\"1\" class=\"dataframe\">\n",
       "  <thead>\n",
       "    <tr style=\"text-align: right;\">\n",
       "      <th></th>\n",
       "      <th>director</th>\n",
       "      <th>roi</th>\n",
       "      <th>production_budget</th>\n",
       "      <th>production_budget_category</th>\n",
       "    </tr>\n",
       "  </thead>\n",
       "  <tbody>\n",
       "    <tr>\n",
       "      <th>0</th>\n",
       "      <td>Abby Kohn</td>\n",
       "      <td>29776898.50</td>\n",
       "      <td>16000000.00</td>\n",
       "      <td>Middle</td>\n",
       "    </tr>\n",
       "    <tr>\n",
       "      <th>1</th>\n",
       "      <td>Adam Green</td>\n",
       "      <td>374156636.67</td>\n",
       "      <td>50000000.00</td>\n",
       "      <td>Upper</td>\n",
       "    </tr>\n",
       "    <tr>\n",
       "      <th>2</th>\n",
       "      <td>Adam McKay</td>\n",
       "      <td>35054250.67</td>\n",
       "      <td>33333333.33</td>\n",
       "      <td>Upper Middle</td>\n",
       "    </tr>\n",
       "    <tr>\n",
       "      <th>3</th>\n",
       "      <td>Adam Robitel</td>\n",
       "      <td>52628529.33</td>\n",
       "      <td>3333333.33</td>\n",
       "      <td>Lower</td>\n",
       "    </tr>\n",
       "    <tr>\n",
       "      <th>4</th>\n",
       "      <td>Adam Shankman</td>\n",
       "      <td>-2989356.00</td>\n",
       "      <td>23333333.33</td>\n",
       "      <td>Upper Middle</td>\n",
       "    </tr>\n",
       "  </tbody>\n",
       "</table>\n",
       "</div>"
      ],
      "text/plain": [
       "        director          roi  production_budget production_budget_category\n",
       "0      Abby Kohn  29776898.50        16000000.00                     Middle\n",
       "1     Adam Green 374156636.67        50000000.00                      Upper\n",
       "2     Adam McKay  35054250.67        33333333.33               Upper Middle\n",
       "3   Adam Robitel  52628529.33         3333333.33                      Lower\n",
       "4  Adam Shankman  -2989356.00        23333333.33               Upper Middle"
      ]
     },
     "execution_count": 58,
     "metadata": {},
     "output_type": "execute_result"
    }
   ],
   "source": [
    "director_profits_df.head()"
   ]
  },
  {
   "cell_type": "code",
   "execution_count": 27,
   "metadata": {},
   "outputs": [],
   "source": [
    "#Creating our dataframe with the highest profiting directors for each budget category.\n",
    "\n",
    "highest_grossing_directors_by_category_df = (\n",
    "    director_profits_df.loc[director_profits_df.groupby('production_budget_category')['roi'].idxmax(),\n",
    "        ['production_budget_category', 'director', 'roi', 'production_budget']]\n",
    ").sort_values('production_budget')\n"
   ]
  },
  {
   "cell_type": "code",
   "execution_count": 59,
   "metadata": {},
   "outputs": [
    {
     "data": {
      "text/html": [
       "<div>\n",
       "<style scoped>\n",
       "    .dataframe tbody tr th:only-of-type {\n",
       "        vertical-align: middle;\n",
       "    }\n",
       "\n",
       "    .dataframe tbody tr th {\n",
       "        vertical-align: top;\n",
       "    }\n",
       "\n",
       "    .dataframe thead th {\n",
       "        text-align: right;\n",
       "    }\n",
       "</style>\n",
       "<table border=\"1\" class=\"dataframe\">\n",
       "  <thead>\n",
       "    <tr style=\"text-align: right;\">\n",
       "      <th></th>\n",
       "      <th>production_budget_category</th>\n",
       "      <th>director</th>\n",
       "      <th>roi</th>\n",
       "      <th>production_budget</th>\n",
       "    </tr>\n",
       "  </thead>\n",
       "  <tbody>\n",
       "    <tr>\n",
       "      <th>114</th>\n",
       "      <td>Upper</td>\n",
       "      <td>Colin Trevorrow</td>\n",
       "      <td>477951621.33</td>\n",
       "      <td>71666666.67</td>\n",
       "    </tr>\n",
       "    <tr>\n",
       "      <th>351</th>\n",
       "      <td>Upper Middle</td>\n",
       "      <td>Kyle Balda</td>\n",
       "      <td>341010653.83</td>\n",
       "      <td>24833333.33</td>\n",
       "    </tr>\n",
       "    <tr>\n",
       "      <th>551</th>\n",
       "      <td>Middle</td>\n",
       "      <td>Sam Taylor-Johnson</td>\n",
       "      <td>176999367.00</td>\n",
       "      <td>13333333.33</td>\n",
       "    </tr>\n",
       "    <tr>\n",
       "      <th>624</th>\n",
       "      <td>Lower</td>\n",
       "      <td>Tod Williams</td>\n",
       "      <td>174512032.00</td>\n",
       "      <td>3000000.00</td>\n",
       "    </tr>\n",
       "    <tr>\n",
       "      <th>130</th>\n",
       "      <td>Lower Middle</td>\n",
       "      <td>Darren Aronofsky</td>\n",
       "      <td>159133355.00</td>\n",
       "      <td>6500000.00</td>\n",
       "    </tr>\n",
       "  </tbody>\n",
       "</table>\n",
       "</div>"
      ],
      "text/plain": [
       "    production_budget_category            director          roi  \\\n",
       "114                      Upper     Colin Trevorrow 477951621.33   \n",
       "351               Upper Middle          Kyle Balda 341010653.83   \n",
       "551                     Middle  Sam Taylor-Johnson 176999367.00   \n",
       "624                      Lower        Tod Williams 174512032.00   \n",
       "130               Lower Middle    Darren Aronofsky 159133355.00   \n",
       "\n",
       "     production_budget  \n",
       "114        71666666.67  \n",
       "351        24833333.33  \n",
       "551        13333333.33  \n",
       "624         3000000.00  \n",
       "130         6500000.00  "
      ]
     },
     "execution_count": 59,
     "metadata": {},
     "output_type": "execute_result"
    }
   ],
   "source": [
    "highest_grossing_directors_by_category_df.head()"
   ]
  },
  {
   "cell_type": "code",
   "execution_count": 28,
   "metadata": {},
   "outputs": [],
   "source": [
    "#Now we are grouping by genres and production_budget_category so that we can examine the genres with the highest ROI for each production \n",
    "#budget category.\n",
    "genre_profits_df = joined_df2_exploded.groupby(['genres'])[(['roi', 'production_budget'])].median().reset_index()"
   ]
  },
  {
   "cell_type": "code",
   "execution_count": 29,
   "metadata": {},
   "outputs": [],
   "source": [
    "#Using our function on the dataframe to create our production_budget_category feature here.\n",
    "genre_profits_df['production_budget_category'] = genre_profits_df['production_budget'].apply(lambda x: categorize_budget(x, quantiles))"
   ]
  },
  {
   "cell_type": "code",
   "execution_count": 61,
   "metadata": {},
   "outputs": [
    {
     "data": {
      "text/html": [
       "<div>\n",
       "<style scoped>\n",
       "    .dataframe tbody tr th:only-of-type {\n",
       "        vertical-align: middle;\n",
       "    }\n",
       "\n",
       "    .dataframe tbody tr th {\n",
       "        vertical-align: top;\n",
       "    }\n",
       "\n",
       "    .dataframe thead th {\n",
       "        text-align: right;\n",
       "    }\n",
       "</style>\n",
       "<table border=\"1\" class=\"dataframe\">\n",
       "  <thead>\n",
       "    <tr style=\"text-align: right;\">\n",
       "      <th></th>\n",
       "      <th>roi</th>\n",
       "      <th>production_budget</th>\n",
       "    </tr>\n",
       "  </thead>\n",
       "  <tbody>\n",
       "    <tr>\n",
       "      <th>count</th>\n",
       "      <td>21.00</td>\n",
       "      <td>21.00</td>\n",
       "    </tr>\n",
       "    <tr>\n",
       "      <th>mean</th>\n",
       "      <td>22339572.65</td>\n",
       "      <td>15010317.46</td>\n",
       "    </tr>\n",
       "    <tr>\n",
       "      <th>std</th>\n",
       "      <td>18554031.58</td>\n",
       "      <td>9885315.25</td>\n",
       "    </tr>\n",
       "    <tr>\n",
       "      <th>min</th>\n",
       "      <td>-1094231.00</td>\n",
       "      <td>3800000.00</td>\n",
       "    </tr>\n",
       "    <tr>\n",
       "      <th>25%</th>\n",
       "      <td>11850891.67</td>\n",
       "      <td>8333333.33</td>\n",
       "    </tr>\n",
       "    <tr>\n",
       "      <th>50%</th>\n",
       "      <td>16990918.67</td>\n",
       "      <td>10000000.00</td>\n",
       "    </tr>\n",
       "    <tr>\n",
       "      <th>75%</th>\n",
       "      <td>23216882.00</td>\n",
       "      <td>23333333.33</td>\n",
       "    </tr>\n",
       "    <tr>\n",
       "      <th>max</th>\n",
       "      <td>78314177.00</td>\n",
       "      <td>36333333.33</td>\n",
       "    </tr>\n",
       "  </tbody>\n",
       "</table>\n",
       "</div>"
      ],
      "text/plain": [
       "              roi  production_budget\n",
       "count       21.00              21.00\n",
       "mean  22339572.65        15010317.46\n",
       "std   18554031.58         9885315.25\n",
       "min   -1094231.00         3800000.00\n",
       "25%   11850891.67         8333333.33\n",
       "50%   16990918.67        10000000.00\n",
       "75%   23216882.00        23333333.33\n",
       "max   78314177.00        36333333.33"
      ]
     },
     "execution_count": 61,
     "metadata": {},
     "output_type": "execute_result"
    }
   ],
   "source": [
    "genre_profits_df.describe()"
   ]
  },
  {
   "cell_type": "code",
   "execution_count": 30,
   "metadata": {},
   "outputs": [],
   "source": [
    "#Here we are creating a df with the highest grossing genre for each production budget category. \n",
    "\n",
    "highest_grossing_genres_by_category_df = (\n",
    "    genre_profits_df.loc[genre_profits_df.groupby('production_budget_category')['roi'].idxmax(),\n",
    "        ['production_budget_category', 'genres', 'roi', 'production_budget']]\n",
    ").sort_values('production_budget')"
   ]
  },
  {
   "cell_type": "code",
   "execution_count": 31,
   "metadata": {},
   "outputs": [],
   "source": [
    "#resetting the index\n",
    "highest_grossing_genres_by_category_df = highest_grossing_genres_by_category_df.reset_index()"
   ]
  },
  {
   "cell_type": "code",
   "execution_count": 33,
   "metadata": {},
   "outputs": [],
   "source": [
    "#creating our highest grossing genre by month dataframe using groupby.\n",
    "#we are finding the median roi to account for outliers. \n",
    "highest_grossing_genre_by_month = joined_df2_exploded.groupby(['release_month', 'genres'])['roi'].median().reset_index()"
   ]
  },
  {
   "cell_type": "code",
   "execution_count": 34,
   "metadata": {},
   "outputs": [],
   "source": [
    "#Determining what the highest grossing genres by month are. \n",
    "id_max = highest_grossing_genre_by_month.groupby('release_month')['roi'].idxmax()"
   ]
  },
  {
   "cell_type": "code",
   "execution_count": 35,
   "metadata": {},
   "outputs": [],
   "source": [
    "#filtering our dataframe based upon this information.\n",
    "highest_grossing_genre_by_month = highest_grossing_genre_by_month.loc[id_max].reset_index(drop=True)"
   ]
  },
  {
   "cell_type": "code",
   "execution_count": 36,
   "metadata": {},
   "outputs": [],
   "source": [
    "#sorting our highest grossing directors dataframe\n",
    "highest_grossing_directors_by_category_df = highest_grossing_directors_by_category_df.sort_values(by='roi', ascending=False)"
   ]
  },
  {
   "cell_type": "code",
   "execution_count": 37,
   "metadata": {},
   "outputs": [],
   "source": [
    "#sorting our highest grossing directors dataframe\n",
    "highest_grossing_genres_by_category_df = highest_grossing_genres_by_category_df.sort_values(by='roi', ascending=False)"
   ]
  },
  {
   "cell_type": "code",
   "execution_count": 38,
   "metadata": {},
   "outputs": [],
   "source": [
    "#sorting our dataframe. \n",
    "highest_grossing_genre_by_month = highest_grossing_genre_by_month.sort_values(by='roi', ascending=True)"
   ]
  },
  {
   "cell_type": "code",
   "execution_count": 39,
   "metadata": {},
   "outputs": [],
   "source": [
    "#sorting our highest genre by month dataframe.\n",
    "highest_grossing_genre_by_month.sort_values(by='roi', inplace=True, ascending=False)"
   ]
  },
  {
   "cell_type": "code",
   "execution_count": 63,
   "metadata": {},
   "outputs": [
    {
     "data": {
      "text/html": [
       "<div>\n",
       "<style scoped>\n",
       "    .dataframe tbody tr th:only-of-type {\n",
       "        vertical-align: middle;\n",
       "    }\n",
       "\n",
       "    .dataframe tbody tr th {\n",
       "        vertical-align: top;\n",
       "    }\n",
       "\n",
       "    .dataframe thead th {\n",
       "        text-align: right;\n",
       "    }\n",
       "</style>\n",
       "<table border=\"1\" class=\"dataframe\">\n",
       "  <thead>\n",
       "    <tr style=\"text-align: right;\">\n",
       "      <th></th>\n",
       "      <th>index</th>\n",
       "      <th>production_budget_category</th>\n",
       "      <th>genres</th>\n",
       "      <th>roi</th>\n",
       "      <th>production_budget</th>\n",
       "    </tr>\n",
       "  </thead>\n",
       "  <tbody>\n",
       "    <tr>\n",
       "      <th>3</th>\n",
       "      <td>2</td>\n",
       "      <td>Upper Middle</td>\n",
       "      <td>Animation</td>\n",
       "      <td>78314177.00</td>\n",
       "      <td>31666666.67</td>\n",
       "    </tr>\n",
       "    <tr>\n",
       "      <th>4</th>\n",
       "      <td>1</td>\n",
       "      <td>Upper</td>\n",
       "      <td>Adventure</td>\n",
       "      <td>53569809.67</td>\n",
       "      <td>36333333.33</td>\n",
       "    </tr>\n",
       "    <tr>\n",
       "      <th>1</th>\n",
       "      <td>19</td>\n",
       "      <td>Lower Middle</td>\n",
       "      <td>War</td>\n",
       "      <td>28543355.50</td>\n",
       "      <td>8750000.00</td>\n",
       "    </tr>\n",
       "    <tr>\n",
       "      <th>2</th>\n",
       "      <td>4</td>\n",
       "      <td>Middle</td>\n",
       "      <td>Comedy</td>\n",
       "      <td>23216882.00</td>\n",
       "      <td>14000000.00</td>\n",
       "    </tr>\n",
       "    <tr>\n",
       "      <th>0</th>\n",
       "      <td>11</td>\n",
       "      <td>Lower</td>\n",
       "      <td>Horror</td>\n",
       "      <td>18864962.83</td>\n",
       "      <td>3800000.00</td>\n",
       "    </tr>\n",
       "  </tbody>\n",
       "</table>\n",
       "</div>"
      ],
      "text/plain": [
       "   index production_budget_category     genres         roi  production_budget\n",
       "3      2               Upper Middle  Animation 78314177.00        31666666.67\n",
       "4      1                      Upper  Adventure 53569809.67        36333333.33\n",
       "1     19               Lower Middle        War 28543355.50         8750000.00\n",
       "2      4                     Middle     Comedy 23216882.00        14000000.00\n",
       "0     11                      Lower     Horror 18864962.83         3800000.00"
      ]
     },
     "execution_count": 63,
     "metadata": {},
     "output_type": "execute_result"
    }
   ],
   "source": [
    "highest_grossing_genres_by_category_df.head()"
   ]
  },
  {
   "cell_type": "code",
   "execution_count": 40,
   "metadata": {},
   "outputs": [
    {
     "data": {
      "image/png": "[encoded data removed]",
      "text/plain": [
       "<Figure size 1000x800 with 1 Axes>"
      ]
     },
     "metadata": {},
     "output_type": "display_data"
    }
   ],
   "source": [
    "#creating our plot for the highest grossing genres by category. \n",
    "\n",
    "plt.figure(figsize=(10,8)) \n",
    "\n",
    "sns.barplot(data=highest_grossing_genres_by_category_df, \n",
    "            x='production_budget_category', \n",
    "            y='roi',\n",
    "            hue='genres')\n",
    "\n",
    "\n",
    "plt.title('Median ROI of Best Genre For Each Budget Category')\n",
    "plt.xlabel('Median ROI')\n",
    "plt.ylabel('Genre')\n",
    "plt.gca().yaxis.set_major_formatter(mtick.FuncFormatter(\n",
    "    lambda x, _: '$0' if x == 0 else f'${x/1e6:,.0f} million' if x < 1e9 else f'${x/1e9:,.1f} billion'\n",
    "\n",
    "))\n",
    "\n",
    "ax = plt.gca()\n",
    "ax.yaxis.set_major_locator(MaxNLocator(nbins=10))  \n",
    "ax.yaxis.set_minor_locator(MultipleLocator(5e6)) \n",
    "\n",
    "plt.savefig('genre_by_budget.png');"
   ]
  },
  {
   "cell_type": "markdown",
   "metadata": {},
   "source": [
    "### Animated films yield the highest median ROI within the 'Upper Middle' budget category and hold the highest median ROI across the entire dataset.\n",
    "\n",
    "### Actionable Insight:\n",
    "### Invest in an animated film within the 'Upper Middle' budget category."
   ]
  },
  {
   "cell_type": "code",
   "execution_count": 41,
   "metadata": {},
   "outputs": [
    {
     "data": {
      "image/png": "[encoded data removed]",
      "text/plain": [
       "<Figure size 1000x800 with 1 Axes>"
      ]
     },
     "metadata": {},
     "output_type": "display_data"
    }
   ],
   "source": [
    "#creating out Plot of Median ROI for Best Director\n",
    "plt.figure(figsize=(10,8))\n",
    "sns.barplot(data=highest_grossing_directors_by_category_df, x='director', y='roi', hue='production_budget_category')\n",
    "\n",
    "plt.title('Median ROI of Best Director For Each Budget Category')\n",
    "plt.xlabel('Director')\n",
    "plt.ylabel('Median ROI')\n",
    "plt.gca().yaxis.set_major_formatter(mtick.FuncFormatter(\n",
    "    lambda x, _: '$0' if x == 0 else f'${x/1e6:,.0f} million' if x < 1e9 else f'${x/1e9:,.1f} billion'\n",
    "\n",
    "))\n",
    "\n",
    "ax = plt.gca()\n",
    "ax.yaxis.set_major_locator(MaxNLocator(nbins=10))  \n",
    "ax.yaxis.set_minor_locator(MultipleLocator(5e6)) \n",
    "\n",
    "plt.savefig('director_by_budget.png');"
   ]
  },
  {
   "cell_type": "markdown",
   "metadata": {},
   "source": [
    "### These directors achieve the highest median ROI for their respective budget categories. Hiring any of them would be a strong strategic move.\n",
    "\n",
    "### Actionable Insight:\n",
    "### Hire Kyle Balda to direct our animated film in the 'Upper Middle' budget category.\n",
    "\n"
   ]
  },
  {
   "cell_type": "code",
   "execution_count": 42,
   "metadata": {},
   "outputs": [
    {
     "data": {
      "image/png": "[encoded data removed]",
      "text/plain": [
       "<Figure size 1000x800 with 1 Axes>"
      ]
     },
     "metadata": {},
     "output_type": "display_data"
    }
   ],
   "source": [
    "# Create the bar plot\n",
    "plt.figure(figsize=(10,8))\n",
    "\n",
    "sns.barplot(data=highest_grossing_genre_by_month, \n",
    "            x='release_month', \n",
    "            y='roi',\n",
    "            hue='genres')\n",
    "\n",
    "# Adding labels to the axes\n",
    "plt.xlabel('Release Month', fontsize=12)\n",
    "plt.ylabel('Median Total Profit', fontsize=12)\n",
    "\n",
    "# Adding a title\n",
    "plt.title('Median ROI of Best Genres by Movie Release Month', fontsize=14)\n",
    "\n",
    "# Rotate the x-axis labels for readability\n",
    "plt.xticks(rotation=90)\n",
    "\n",
    "# Adding gridlines for better readability of the y-axis values\n",
    "plt.grid(axis='y', linestyle='--', alpha=0.9)\n",
    "\n",
    "# Adding the legend\n",
    "plt.legend(loc='upper right', fontsize=10)\n",
    "\n",
    "# Adjust the layout to ensure everything fits without overlap\n",
    "plt.tight_layout()\n",
    "\n",
    "plt.gca().yaxis.set_major_formatter(mtick.FuncFormatter(\n",
    "    lambda x, _: '$0' if x == 0 else f'${x/1e6:,.0f} million' if x < 1e9 else f'${x/1e9:,.1f} billion'\n",
    "\n",
    "))\n",
    "\n",
    "ax = plt.gca()\n",
    "ax.yaxis.set_major_locator(MaxNLocator(nbins=10))  \n",
    "ax.yaxis.set_minor_locator(MultipleLocator(5e6)) \n",
    "# Save the plot as a PNG image and using ';' to show the plot. \n",
    "plt.savefig('Average_ROI_by_Movie_Release_Month.png', bbox_inches='tight', pad_inches= 0.2);"
   ]
  },
  {
   "cell_type": "markdown",
   "metadata": {},
   "source": [
    "### The highest median ROI is observed in November, with 'Sport' as the top-performing genre. However, 'Animation' consistently delivers strong returns across most months, likely due to the requirement that children be accompanied by ticket-buying adults.\n",
    "\n",
    "### Actionable Insight:\n",
    "### Release the animated film in June to maximize ROI."
   ]
  },
  {
   "cell_type": "markdown",
   "metadata": {},
   "source": [
    "## Conclusion"
   ]
  },
  {
   "cell_type": "markdown",
   "metadata": {},
   "source": [
    "### This analysis explored the relationships between return on investment, production budget categories, and genres, as well as the impact of directors on ROI. Additionally, we identified the highest median ROI genres for each month.\n",
    "\n",
    "### To achieve the highest possible ROI, we recommend producing an animated film within the 'Upper Middle' budget range (16.6M - 35M), hiring Kyle Balda as the director, and releasing the film in June."
   ]
  },
  {
   "cell_type": "markdown",
   "metadata": {},
   "source": [
    "### Why Might Our Analysis Not Fully Address the Problem?\n",
    "\n",
    "### External market factors: The analysis does not account for potential external factors that could impact movie success, such as economic conditions, competition from other studios, or changing consumer tastes. These factors could significantly influence box office performance and should be considered in future analyses.\n",
    "\n",
    "### Assumption of historical trends: The analysis is based on historical data, which assumes that past trends will continue. However, the entertainment industry is dynamic, and market conditions, consumer preferences, and industry trends can change rapidly. The insights gained may only be applicable to the current context and may not fully predict future performance.\n",
    "\n",
    "### Overreliance on roi as a metric: roi is an important indicator, but it does not capture the full picture. Other factors, such as audience satisfaction, critical reception, or brand-building for the studio, could be equally important in determining the long-term success of a movie studio."
   ]
  },
  {
   "cell_type": "markdown",
   "metadata": {},
   "source": [
    "<img src=\"cinemaaudience.jpg\" alt=\"Cinema Audience\" width=\"800\"/>"
   ]
  },
  {
   "cell_type": "markdown",
   "metadata": {},
   "source": [
    "### Future Steps\n",
    "\n",
    "### To improve the analysis and make it more comprehensive in the future, we should consider the following:\n",
    "\n",
    "### Incorporate additional data: Gathering more detailed data on factors like social media engagement could provide deeper insights into what drives success. \n",
    "\n",
    "### Track evolving trends over time: The business should regularly update its analysis to track shifts in movie-goer preferences, genre popularity, and market conditions. This would allow the company to adjust its strategies dynamically rather than relying on static insights."
   ]
  }
 ],
 "metadata": {
  "kernelspec": {
   "display_name": "Python 3 (ipykernel)",
   "language": "python",
   "name": "python3"
  },
  "language_info": {
   "codemirror_mode": {
    "name": "ipython",
    "version": 3
   },
   "file_extension": ".py",
   "mimetype": "text/x-python",
   "name": "python",
   "nbconvert_exporter": "python",
   "pygments_lexer": "ipython3",
   "version": "3.12.4"
  }
 },
 "nbformat": 4,
 "nbformat_minor": 4
}
